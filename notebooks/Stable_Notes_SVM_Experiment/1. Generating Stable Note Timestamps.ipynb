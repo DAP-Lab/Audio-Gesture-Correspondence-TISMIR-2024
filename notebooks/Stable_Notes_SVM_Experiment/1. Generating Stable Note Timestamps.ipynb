{
 "cells": [
  {
   "cell_type": "markdown",
   "id": "07f07025",
   "metadata": {},
   "source": [
    "# This script takes singerwise masterfiles and finds the stable notes and SDS timestamps, and saves them for downstream tasks"
   ]
  },
  {
   "cell_type": "code",
   "execution_count": 2,
   "id": "b4940d86",
   "metadata": {},
   "outputs": [],
   "source": [
    "from functions import *\n",
    "import warnings\n",
    "warnings.filterwarnings(\"ignore\")"
   ]
  },
  {
   "cell_type": "code",
   "execution_count": 3,
   "id": "44165e62",
   "metadata": {},
   "outputs": [],
   "source": [
    "for singer in ['AG','AK','AP','CC','MG','MP','NM','RV','SCh','SM','SS']:\n",
    "    \n",
    "    # Reading masterfile for this singer\n",
    "    master = pd.read_csv(f'./../../Data/check_output_Jan20/check_output_v2/{singer}_gesture_pitch_pd_with_vel_accln.csv')\n",
    "    \n",
    "    # list of audio files we want to process for this singer\n",
    "    filelist = list(master['filename'].unique())\n",
    "    \n",
    "    \n",
    "    for filename in filelist:\n",
    "        \n",
    "        # taking one alap at a time\n",
    "        aalap = master.loc[master['filename']==filename].reset_index(drop=True)\n",
    "        \n",
    "        # ipcdf = Interpolated Pitch Contour DataFrame\n",
    "        ipcdf = aalap[['time','pitch']].reset_index(drop=True)\n",
    "        \n",
    "        # Computing Pitch Class Distribution\n",
    "        bins = pcd(ipcdf) \n",
    "        \n",
    "        # Splitting contour into Silence Delimited Segments (SDS)\n",
    "        segments = split_into_segments(ipcdf)\n",
    "        \n",
    "        # Finding steady notes\n",
    "        steady_note_output = find_steady_notes_v2(ipcdf, segments, bins)\n",
    "        \n",
    "        # Converting SDS and stable note data to Pandas dataframes\n",
    "        sds_df = pd.DataFrame(segments,columns=['Start','End'])\n",
    "        st_df = pd.DataFrame(steady_note_output,columns=['SDS','Start','End','Bin'])\n",
    "        \n",
    "        # Interpolating gaps\n",
    "        new_pitch, merged_st_df = merge_with_interp(ipcdf, st_df)\n",
    "        ipcdf['new_pitch'] = new_pitch\n",
    "        \n",
    "        # Saving dataframes to csv\n",
    "        sds_df.to_csv(f'./SDS_Dataframes/{filename}',index=False)\n",
    "        st_df.to_csv(f'./Stable_Notes/{filename}',index=False)\n",
    "        ipcdf.to_csv(f'./IPCDF/{filename}',index=False)\n",
    "        "
   ]
  },
  {
   "cell_type": "code",
   "execution_count": null,
   "id": "3bba77cb",
   "metadata": {},
   "outputs": [],
   "source": []
  }
 ],
 "metadata": {
  "kernelspec": {
   "display_name": "Python 3 (ipykernel)",
   "language": "python",
   "name": "python3"
  },
  "language_info": {
   "codemirror_mode": {
    "name": "ipython",
    "version": 3
   },
   "file_extension": ".py",
   "mimetype": "text/x-python",
   "name": "python",
   "nbconvert_exporter": "python",
   "pygments_lexer": "ipython3",
   "version": "3.9.12"
  }
 },
 "nbformat": 4,
 "nbformat_minor": 5
}
